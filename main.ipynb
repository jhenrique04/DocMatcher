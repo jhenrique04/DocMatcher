{
 "cells": [
  {
   "cell_type": "code",
   "execution_count": null,
   "metadata": {},
   "outputs": [],
   "source": [
    "import PyPDF4\n",
    "from sklearn.feature_extraction.text import TfidfVectorizer\n",
    "from sklearn.metrics.pairwise import cosine_similarity"
   ]
  },
  {
   "cell_type": "code",
   "execution_count": null,
   "metadata": {},
   "outputs": [],
   "source": [
    "def extract_text_from_pdf(file_path):\n",
    "    with open(file_path, 'rb') as file:\n",
    "        reader = PyPDF4.PdfFileReader(file)\n",
    "        text = \"\"\n",
    "        for page in range(reader.numPages):\n",
    "            text += reader.getPage(page).extractText()\n",
    "    return text\n",
    "\n",
    "good_docs_paths = [\"\"]  # 90-100%\n",
    "great_docs_paths = [\"\"]  # 75%\n",
    "avg_docs_paths = [\"\"]  # 50%\n",
    "below_avg_docs_paths = [\"\"]  # 25%\n",
    "bad_docs_paths = [\"\"]  # <25%\n",
    "\n",
    "good_docs = [extract_text_from_pdf(file) for file in good_docs_paths]\n",
    "great_docs = [extract_text_from_pdf(file) for file in great_docs_paths]\n",
    "avg_docs = [extract_text_from_pdf(file) for file in avg_docs_paths]\n",
    "below_avg_docs = [extract_text_from_pdf(file) for file in below_avg_docs_paths]\n",
    "bad_docs = [extract_text_from_pdf(file) for file in bad_docs_paths]\n",
    "\n",
    "all_docs = good_docs + great_docs + avg_docs + below_avg_docs + bad_docs\n",
    "\n",
    "vectorizer = TfidfVectorizer()\n",
    "tfidf_matrix = vectorizer.fit_transform(all_docs)\n",
    "\n",
    "\n",
    "def calculate_score(query_documents):\n",
    "    total_score = 0\n",
    "    for query_document in query_documents:\n",
    "        query_vector = vectorizer.transform([query_document])\n",
    "        \n",
    "        cosine_similarities = cosine_similarity(query_vector, tfidf_matrix).flatten()\n",
    "        \n",
    "        good_sim = sum(cosine_similarities[:len(good_docs)]) / len(good_docs)\n",
    "        great_sim = sum(cosine_similarities[len(good_docs):len(good_docs)+len(great_docs)]) / len(great_docs)\n",
    "        avg_sim = sum(cosine_similarities[len(good_docs)+len(great_docs):len(good_docs)+len(great_docs)+len(avg_docs)]) / len(avg_docs)\n",
    "        below_avg_sim = sum(cosine_similarities[len(good_docs)+len(great_docs)+len(avg_docs):len(good_docs)+len(great_docs)+len(avg_docs)+len(below_avg_docs)]) / len(below_avg_docs)\n",
    "        bad_sim = sum(cosine_similarities[-len(bad_docs):]) / len(bad_docs)\n",
    "        \n",
    "        total_score += 1.0 * good_sim + 0.75 * great_sim + 0.5 * avg_sim + 0.25 * below_avg_sim + 0.0 * bad_sim\n",
    "    \n",
    "    final_score = total_score / len(query_documents)\n",
    "    return final_score"
   ]
  },
  {
   "cell_type": "code",
   "execution_count": null,
   "metadata": {},
   "outputs": [],
   "source": [
    "# Load data and run the model\n",
    "\n",
    "list_of_your_company_documents = [\"\"]\n",
    "query_documents = [extract_text_from_pdf(path) for path in list_of_your_company_documents]\n",
    "score = calculate_score(query_documents)\n",
    "print(f\"Score Médio: {score:.2f}\")"
   ]
  }
 ],
 "metadata": {
  "kernelspec": {
   "display_name": "myenv",
   "language": "python",
   "name": "python3"
  },
  "language_info": {
   "codemirror_mode": {
    "name": "ipython",
    "version": 3
   },
   "file_extension": ".py",
   "mimetype": "text/x-python",
   "name": "python",
   "nbconvert_exporter": "python",
   "pygments_lexer": "ipython3",
   "version": "3.11.5"
  }
 },
 "nbformat": 4,
 "nbformat_minor": 2
}
