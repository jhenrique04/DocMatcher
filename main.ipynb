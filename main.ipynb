{
 "cells": [
  {
   "cell_type": "code",
   "execution_count": 25,
   "metadata": {},
   "outputs": [],
   "source": [
    "import PyPDF4\n",
    "from sklearn.feature_extraction.text import TfidfVectorizer\n",
    "from sklearn.model_selection import train_test_split\n",
    "from sklearn.ensemble import RandomForestClassifier\n",
    "from sklearn.model_selection import cross_val_score"
   ]
  },
  {
   "cell_type": "code",
   "execution_count": 26,
   "metadata": {},
   "outputs": [],
   "source": [
    "def extract_text_from_pdf(file_path):\n",
    "    \"\"\"Extract text from a given PDF file.\"\"\"\n",
    "    with open(file_path, 'rb') as file:\n",
    "        reader = PyPDF4.PdfFileReader(file)\n",
    "        text = \"\"\n",
    "        for page in range(reader.numPages):\n",
    "            text += reader.getPage(page).extractText()\n",
    "    return text"
   ]
  },
  {
   "cell_type": "code",
   "execution_count": 29,
   "metadata": {},
   "outputs": [],
   "source": [
    "# Load Data\n",
    "\n",
    "# List of paths the documents\n",
    "file_paths = [\n",
    "    \"testCmmiBradesco.pdf\",\n",
    "    \"testCmmiBradesco2.pdf\",\n",
    "    \"testCmmiItau.pdf\",\n",
    "    \"testCmmiItau2.pdf\",\n",
    "    \"testCmmiBancodoBrasil.pdf\",\n",
    "    \"testCmmiBancodoBrasil2.pdf.pdf\",\n",
    "    \"testNonCmmiWillBank.pdf\",\n",
    "]\n",
    "\n",
    "# Extracting text from PDFs\n",
    "documents = [extract_text_from_pdf(file) for file in file_paths]\n",
    "\n",
    "# Labels for the documents, 0 for non-CMMI and 1 for CMMI\n",
    "labels = [\n",
    "    1,\n",
    "    1,\n",
    "    1,\n",
    "    1,\n",
    "    1,\n",
    "    1,\n",
    "    0,\n",
    "]"
   ]
  },
  {
   "cell_type": "code",
   "execution_count": 32,
   "metadata": {},
   "outputs": [
    {
     "name": "stderr",
     "output_type": "stream",
     "text": [
      "UserWarning: The least populated class in y has only 1 members, which is less than n_splits=6. [_split.py:737]\n"
     ]
    },
    {
     "name": "stdout",
     "output_type": "stream",
     "text": [
      "Acurácias em cada fold: [0.5 1.  1.  1.  1.  1. ]\n",
      "Acurácia média: 0.9166666666666666\n",
      "Desvio padrão da acurácia: 0.18633899812498245\n"
     ]
    }
   ],
   "source": [
    "# Feature extraction\n",
    "vectorizer = TfidfVectorizer(max_features=10000)\n",
    "X = vectorizer.fit_transform(documents)\n",
    "\n",
    "# Splitting data into training and testing sets\n",
    "X_train, X_test, y_train, y_test = train_test_split(X, labels, test_size=0.2, random_state=42)\n",
    "\n",
    "# Training a Random Forest model\n",
    "clf = RandomForestClassifier()\n",
    "clf.fit(X_train, y_train)\n",
    "\n",
    "# Specifying the number of folds for cross-validation\n",
    "k = 6\n",
    "\n",
    "scores = cross_val_score(clf, X, labels, cv=k, scoring='accuracy')\n",
    "\n",
    "print(\"Acurácias em cada fold:\", scores)\n",
    "print(\"Acurácia média:\", scores.mean())\n",
    "print(\"Desvio padrão da acurácia:\", scores.std())\n"
   ]
  }
 ],
 "metadata": {
  "kernelspec": {
   "display_name": "myenv",
   "language": "python",
   "name": "python3"
  },
  "language_info": {
   "codemirror_mode": {
    "name": "ipython",
    "version": 3
   },
   "file_extension": ".py",
   "mimetype": "text/x-python",
   "name": "python",
   "nbconvert_exporter": "python",
   "pygments_lexer": "ipython3",
   "version": "3.11.5"
  }
 },
 "nbformat": 4,
 "nbformat_minor": 2
}
