{
 "cells": [
  {
   "cell_type": "code",
   "execution_count": 1,
   "metadata": {},
   "outputs": [],
   "source": [
    "from pdf_reader import PDFReader\n",
    "from preprocessor import Preprocessor\n",
    "from vectorizer import Vectorizer\n",
    "from visualizer import DocumentVisualizer\n",
    "from models.svm_model import SVMModel\n",
    "from models.rf_model import RFModel\n",
    "from models.lr_model import LRModel\n",
    "from sklearn.ensemble import VotingClassifier\n",
    "from sklearn.feature_extraction.text import CountVectorizer\n",
    "from sklearn.decomposition import LatentDirichletAllocation\n",
    "import os\n",
    "import numpy as np"
   ]
  },
  {
   "cell_type": "code",
   "execution_count": 2,
   "metadata": {},
   "outputs": [],
   "source": [
    "# Load Word2Vec model\n",
    "vectorizer = Vectorizer(\"word2Vec_models/cbow_s50.txt\")"
   ]
  },
  {
   "cell_type": "code",
   "execution_count": 3,
   "metadata": {},
   "outputs": [],
   "source": [
    "pdf_reader = PDFReader()\n",
    "preprocessor = Preprocessor()\n",
    "document_visualizer = DocumentVisualizer()\n",
    "\n",
    "# Create BoW representation of documents\n",
    "count_vectorizer = CountVectorizer(max_df=0.95, min_df=2, stop_words='english')\n",
    "lda = LatentDirichletAllocation(n_components=2, random_state=42)\n",
    "\n",
    "# Define individual models\n",
    "svm_clf = SVMModel()\n",
    "rf_clf = RFModel()\n",
    "log_clf = LRModel()\n",
    "\n",
    "# Create a voting classifier\n",
    "voting_clf = VotingClassifier(\n",
    "    estimators=[('svm', svm_clf), ('rf', rf_clf), ('log', log_clf)],\n",
    "    voting='soft'\n",
    ")"
   ]
  },
  {
   "cell_type": "code",
   "execution_count": 4,
   "metadata": {},
   "outputs": [
    {
     "data": {
      "text/html": [
       "<style>#sk-container-id-1 {color: black;}#sk-container-id-1 pre{padding: 0;}#sk-container-id-1 div.sk-toggleable {background-color: white;}#sk-container-id-1 label.sk-toggleable__label {cursor: pointer;display: block;width: 100%;margin-bottom: 0;padding: 0.3em;box-sizing: border-box;text-align: center;}#sk-container-id-1 label.sk-toggleable__label-arrow:before {content: \"▸\";float: left;margin-right: 0.25em;color: #696969;}#sk-container-id-1 label.sk-toggleable__label-arrow:hover:before {color: black;}#sk-container-id-1 div.sk-estimator:hover label.sk-toggleable__label-arrow:before {color: black;}#sk-container-id-1 div.sk-toggleable__content {max-height: 0;max-width: 0;overflow: hidden;text-align: left;background-color: #f0f8ff;}#sk-container-id-1 div.sk-toggleable__content pre {margin: 0.2em;color: black;border-radius: 0.25em;background-color: #f0f8ff;}#sk-container-id-1 input.sk-toggleable__control:checked~div.sk-toggleable__content {max-height: 200px;max-width: 100%;overflow: auto;}#sk-container-id-1 input.sk-toggleable__control:checked~label.sk-toggleable__label-arrow:before {content: \"▾\";}#sk-container-id-1 div.sk-estimator input.sk-toggleable__control:checked~label.sk-toggleable__label {background-color: #d4ebff;}#sk-container-id-1 div.sk-label input.sk-toggleable__control:checked~label.sk-toggleable__label {background-color: #d4ebff;}#sk-container-id-1 input.sk-hidden--visually {border: 0;clip: rect(1px 1px 1px 1px);clip: rect(1px, 1px, 1px, 1px);height: 1px;margin: -1px;overflow: hidden;padding: 0;position: absolute;width: 1px;}#sk-container-id-1 div.sk-estimator {font-family: monospace;background-color: #f0f8ff;border: 1px dotted black;border-radius: 0.25em;box-sizing: border-box;margin-bottom: 0.5em;}#sk-container-id-1 div.sk-estimator:hover {background-color: #d4ebff;}#sk-container-id-1 div.sk-parallel-item::after {content: \"\";width: 100%;border-bottom: 1px solid gray;flex-grow: 1;}#sk-container-id-1 div.sk-label:hover label.sk-toggleable__label {background-color: #d4ebff;}#sk-container-id-1 div.sk-serial::before {content: \"\";position: absolute;border-left: 1px solid gray;box-sizing: border-box;top: 0;bottom: 0;left: 50%;z-index: 0;}#sk-container-id-1 div.sk-serial {display: flex;flex-direction: column;align-items: center;background-color: white;padding-right: 0.2em;padding-left: 0.2em;position: relative;}#sk-container-id-1 div.sk-item {position: relative;z-index: 1;}#sk-container-id-1 div.sk-parallel {display: flex;align-items: stretch;justify-content: center;background-color: white;position: relative;}#sk-container-id-1 div.sk-item::before, #sk-container-id-1 div.sk-parallel-item::before {content: \"\";position: absolute;border-left: 1px solid gray;box-sizing: border-box;top: 0;bottom: 0;left: 50%;z-index: -1;}#sk-container-id-1 div.sk-parallel-item {display: flex;flex-direction: column;z-index: 1;position: relative;background-color: white;}#sk-container-id-1 div.sk-parallel-item:first-child::after {align-self: flex-end;width: 50%;}#sk-container-id-1 div.sk-parallel-item:last-child::after {align-self: flex-start;width: 50%;}#sk-container-id-1 div.sk-parallel-item:only-child::after {width: 0;}#sk-container-id-1 div.sk-dashed-wrapped {border: 1px dashed gray;margin: 0 0.4em 0.5em 0.4em;box-sizing: border-box;padding-bottom: 0.4em;background-color: white;}#sk-container-id-1 div.sk-label label {font-family: monospace;font-weight: bold;display: inline-block;line-height: 1.2em;}#sk-container-id-1 div.sk-label-container {text-align: center;}#sk-container-id-1 div.sk-container {/* jupyter's `normalize.less` sets `[hidden] { display: none; }` but bootstrap.min.css set `[hidden] { display: none !important; }` so we also need the `!important` here to be able to override the default hidden behavior on the sphinx rendered scikit-learn.org. See: https://github.com/scikit-learn/scikit-learn/issues/21755 */display: inline-block !important;position: relative;}#sk-container-id-1 div.sk-text-repr-fallback {display: none;}</style><div id=\"sk-container-id-1\" class=\"sk-top-container\"><div class=\"sk-text-repr-fallback\"><pre>VotingClassifier(estimators=[(&#x27;svm&#x27;, SVMModel()), (&#x27;rf&#x27;, RFModel()),\n",
       "                             (&#x27;log&#x27;, LRModel())],\n",
       "                 voting=&#x27;soft&#x27;)</pre><b>In a Jupyter environment, please rerun this cell to show the HTML representation or trust the notebook. <br />On GitHub, the HTML representation is unable to render, please try loading this page with nbviewer.org.</b></div><div class=\"sk-container\" hidden><div class=\"sk-item sk-dashed-wrapped\"><div class=\"sk-label-container\"><div class=\"sk-label sk-toggleable\"><input class=\"sk-toggleable__control sk-hidden--visually\" id=\"sk-estimator-id-1\" type=\"checkbox\" ><label for=\"sk-estimator-id-1\" class=\"sk-toggleable__label sk-toggleable__label-arrow\">VotingClassifier</label><div class=\"sk-toggleable__content\"><pre>VotingClassifier(estimators=[(&#x27;svm&#x27;, SVMModel()), (&#x27;rf&#x27;, RFModel()),\n",
       "                             (&#x27;log&#x27;, LRModel())],\n",
       "                 voting=&#x27;soft&#x27;)</pre></div></div></div><div class=\"sk-parallel\"><div class=\"sk-parallel-item\"><div class=\"sk-item\"><div class=\"sk-label-container\"><div class=\"sk-label sk-toggleable\"><label>svm</label></div></div><div class=\"sk-serial\"><div class=\"sk-item\"><div class=\"sk-estimator sk-toggleable\"><input class=\"sk-toggleable__control sk-hidden--visually\" id=\"sk-estimator-id-2\" type=\"checkbox\" ><label for=\"sk-estimator-id-2\" class=\"sk-toggleable__label sk-toggleable__label-arrow\">SVMModel</label><div class=\"sk-toggleable__content\"><pre>SVMModel()</pre></div></div></div></div></div></div><div class=\"sk-parallel-item\"><div class=\"sk-item\"><div class=\"sk-label-container\"><div class=\"sk-label sk-toggleable\"><label>rf</label></div></div><div class=\"sk-serial\"><div class=\"sk-item\"><div class=\"sk-estimator sk-toggleable\"><input class=\"sk-toggleable__control sk-hidden--visually\" id=\"sk-estimator-id-3\" type=\"checkbox\" ><label for=\"sk-estimator-id-3\" class=\"sk-toggleable__label sk-toggleable__label-arrow\">RFModel</label><div class=\"sk-toggleable__content\"><pre>RFModel()</pre></div></div></div></div></div></div><div class=\"sk-parallel-item\"><div class=\"sk-item\"><div class=\"sk-label-container\"><div class=\"sk-label sk-toggleable\"><label>log</label></div></div><div class=\"sk-serial\"><div class=\"sk-item\"><div class=\"sk-estimator sk-toggleable\"><input class=\"sk-toggleable__control sk-hidden--visually\" id=\"sk-estimator-id-4\" type=\"checkbox\" ><label for=\"sk-estimator-id-4\" class=\"sk-toggleable__label sk-toggleable__label-arrow\">LRModel</label><div class=\"sk-toggleable__content\"><pre>LRModel()</pre></div></div></div></div></div></div></div></div></div></div>"
      ],
      "text/plain": [
       "VotingClassifier(estimators=[('svm', SVMModel()), ('rf', RFModel()),\n",
       "                             ('log', LRModel())],\n",
       "                 voting='soft')"
      ]
     },
     "execution_count": 4,
     "metadata": {},
     "output_type": "execute_result"
    }
   ],
   "source": [
    "# Process labeled data\n",
    "\n",
    "X_texts = []\n",
    "X_word2vec = []\n",
    "y = []\n",
    "\n",
    "# Loop through each PDF in the documents folder\n",
    "for filename in os.listdir('documents/'):\n",
    "    if filename.endswith('.pdf'):\n",
    "        # Read and preprocess the text\n",
    "        text = pdf_reader.extract_text(os.path.join('documents', filename))\n",
    "        processed_text = preprocessor.process(text)\n",
    "        X_texts.append(' '.join(processed_text))\n",
    "        vectorized_text = vectorizer.calculate_document_vector(processed_text)\n",
    "        X_word2vec.append(vectorized_text)\n",
    "\n",
    "        # Assign labels based on file naming convention\n",
    "        if filename.startswith(\"risk\"):\n",
    "            label = 0  # Risk Report\n",
    "        elif filename.startswith(\"privacy\"):\n",
    "            label = 1  # Privacy Policy\n",
    "        else:\n",
    "            label = -1  # Unlabeled or other types of documents\n",
    "        y.append(label)\n",
    "\n",
    "# Transform documents to a matrix of token counts\n",
    "X_count = count_vectorizer.fit_transform(X_texts)\n",
    "\n",
    "# Apply LDA\n",
    "X_topics = lda.fit_transform(X_count)\n",
    "\n",
    "# Combining Word2Vec and LDA representations\n",
    "X_combined = np.hstack((X_word2vec, X_topics))\n",
    "\n",
    "# Transform y to numpy array\n",
    "y = np.array(y)\n",
    "\n",
    "# Train ensemble model on the combined representation\n",
    "voting_clf.fit(X_combined, y)"
   ]
  },
  {
   "cell_type": "code",
   "execution_count": 5,
   "metadata": {},
   "outputs": [],
   "source": [
    "# Analyze new data\n",
    "\n",
    "new_X_texts = []\n",
    "new_X_word2vec = []\n",
    "doc_names = []\n",
    "\n",
    "for filename in os.listdir('analyze/'):\n",
    "  if filename.endswith('.pdf'):\n",
    "    new_text = pdf_reader.extract_text(os.path.join('analyze', filename))\n",
    "    new_processed_text = preprocessor.process(new_text)\n",
    "    new_X_texts.append(' '.join(new_processed_text))\n",
    "    new_vectorized_text = vectorizer.calculate_document_vector(new_processed_text)\n",
    "    new_X_word2vec.append(new_vectorized_text)\n",
    "    doc_names.append(filename)  # Store the filename for later reference\n",
    "\n",
    "# Transform new documents to a matrix of token counts\n",
    "new_X_count = count_vectorizer.transform(new_X_texts)\n",
    "\n",
    "# Apply LDA on new data\n",
    "new_X_topics = lda.transform(new_X_count)\n",
    "\n",
    "# Combining Word2Vec and LDA representations for new data\n",
    "new_X_combined = np.hstack((new_X_word2vec, new_X_topics))\n",
    "\n",
    "# Predicting labels for new data\n",
    "predictions = voting_clf.predict(new_X_combined)"
   ]
  },
  {
   "cell_type": "code",
   "execution_count": 6,
   "metadata": {},
   "outputs": [
    {
     "data": {
      "image/png": "[encoded data removed]",
      "text/plain": [
       "<Figure size 640x480 with 1 Axes>"
      ]
     },
     "metadata": {},
     "output_type": "display_data"
    },
    {
     "name": "stdout",
     "output_type": "stream",
     "text": [
      "The highest similarity score of analyzeRisk.pdf within its category is: 99.73.\n",
      "The highest similarity score of analyzePrivacy.pdf within its category is: 99.72.\n",
      "analyzeRisk.pdf: Risk Report\n",
      "analyzePrivacy.pdf: Privacy Policy\n",
      "\n",
      "Done!\n"
     ]
    }
   ],
   "source": [
    "# Plot the analyzed data\n",
    "\n",
    "# Calculate and plot the highest similarity scores\n",
    "highest_scores = document_visualizer.calculate_similarity(new_X_combined, X_combined, y, predictions)\n",
    "document_visualizer.plot_similarity(highest_scores, doc_names)\n",
    "\n",
    "# Print out the highest similarity scores for each document\n",
    "document_visualizer.print_highest_scores(highest_scores, doc_names)\n",
    "\n",
    "# Print out predictions with document names\n",
    "label_names = [\"Risk Report\", \"Privacy Policy\"]\n",
    "\n",
    "for doc_name, label_index in zip(doc_names, predictions):\n",
    "    print(f\"{doc_name}: {label_names[label_index]}\")\n",
    "\n",
    "print(\"\\nDone!\")"
   ]
  }
 ],
 "metadata": {
  "kernelspec": {
   "display_name": "myenv",
   "language": "python",
   "name": "python3"
  },
  "language_info": {
   "codemirror_mode": {
    "name": "ipython",
    "version": 3
   },
   "file_extension": ".py",
   "mimetype": "text/x-python",
   "name": "python",
   "nbconvert_exporter": "python",
   "pygments_lexer": "ipython3",
   "version": "3.11.5"
  }
 },
 "nbformat": 4,
 "nbformat_minor": 2
}
